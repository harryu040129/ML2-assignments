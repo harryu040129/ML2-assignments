{
 "cells": [
  {
   "cell_type": "markdown",
   "metadata": {},
   "source": [
    "### Assignment 1: Creating kNN Algorithm\n",
    "Student Name: 류정민 #2023029516"
   ]
  },
  {
   "cell_type": "code",
   "execution_count": 1,
   "metadata": {},
   "outputs": [],
   "source": [
    "import numpy as np\n",
    "import torch\n",
    "from torchvision import datasets\n",
    "trainset = datasets.MNIST(root='./data', train=True, download=True)\n",
    "testset = datasets.MNIST(root='./data', train=False, download=True)"
   ]
  },
  {
   "cell_type": "code",
   "execution_count": 2,
   "metadata": {},
   "outputs": [],
   "source": [
    "# Indices for train/val splits: train_idx, valid_idx\n",
    "np.random.seed(0)\n",
    "val_ratio = 0.1\n",
    "train_size = len(trainset)\n",
    "indices = list(range(train_size))\n",
    "split_idx = int(np.floor(val_ratio * train_size)) \n",
    "np.random.shuffle(indices)\n",
    "train_idx , val_idx = indices[split_idx:], indices[:split_idx]\n",
    "train_data = trainset.data[train_idx].float()/255. \n",
    "train_labels = trainset.targets[train_idx] \n",
    "val_data = trainset.data[val_idx].float()/255.\n",
    "val_labels = trainset.targets[val_idx]\n",
    "test_data = testset.data.float()/255. \n",
    "test_labels = testset.targets"
   ]
  },
  {
   "cell_type": "markdown",
   "metadata": {},
   "source": [
    "### Problem a"
   ]
  },
  {
   "cell_type": "code",
   "execution_count": 3,
   "metadata": {},
   "outputs": [],
   "source": [
    "# Problem a\n",
    "\n",
    "# function for calculating Euclidean distance\n",
    "def cal_dst_L2(a,b):\n",
    "  return (a-b)**2\n",
    "\n",
    "def knn(train_data, target, k):\n",
    "  # list to contain information about distance\n",
    "  li = []\n",
    "\n",
    "  # KNN in for loop\n",
    "  for i in range(len(train_data)):\n",
    "    sample = train_data[i]\n",
    "    # distance for each instance\n",
    "    dist = 0\n",
    "    for j in range(28):\n",
    "      for l in range(28):\n",
    "        dist += cal_dst_L2(float(target[j][l]),float(sample[j][l]))\n",
    "    # append information of distance to the list\n",
    "    li.append(dist)\n",
    "\n",
    "  # counts each labels\n",
    "  cnt = {}\n",
    "\n",
    "  for i in range(k):\n",
    "    # extract minimum value\n",
    "    ele = min(li)\n",
    "    # extract minimum value's index\n",
    "    idx = li.index(ele)\n",
    "    # remove minimum value from the list\n",
    "    li.remove(ele)\n",
    "\n",
    "    # count the value\n",
    "    temp = int(train_labels[idx])\n",
    "    if temp in cnt:\n",
    "      cnt[temp] += 1\n",
    "    else:\n",
    "      cnt[temp] = 1\n",
    "\n",
    "  # extract the maximum counted value from the dictionary\n",
    "  knn = max(cnt, key = lambda x: cnt[x])\n",
    "\n",
    "  # return the knn result\n",
    "  return knn\n"
   ]
  },
  {
   "cell_type": "code",
   "execution_count": 4,
   "metadata": {},
   "outputs": [
    {
     "name": "stdout",
     "output_type": "stream",
     "text": [
      "1\n",
      "tensor(1)\n"
     ]
    }
   ],
   "source": [
    "# Testing if a works\n",
    "\n",
    "# first, choose a sample target from the test_data (unseen)\n",
    "target = test_data[5]\n",
    "\n",
    "# perform knn with k = 5\n",
    "res = knn(train_data, target, 5)\n",
    "\n",
    "print(res)\n",
    "print(test_labels[5])"
   ]
  },
  {
   "cell_type": "markdown",
   "metadata": {},
   "source": [
    "### Problem b"
   ]
  },
  {
   "cell_type": "code",
   "execution_count": 5,
   "metadata": {},
   "outputs": [],
   "source": [
    "# Problem b\n",
    "\n",
    "def knn_broadcast(train_data, target, k):\n",
    "\n",
    "  # Use broadcasting method to calculate distance between each element in train data and the target\n",
    "  knn_data = (train_data - target)**2\n",
    "\n",
    "  # list to contain information about distance\n",
    "  li = []\n",
    "\n",
    "  # Distance Calculation\n",
    "  for i in range(len(knn_data)):\n",
    "    # calculate the distance of the instance\n",
    "    dist = torch.sum(knn_data[i])\n",
    "    # add the distance to the list\n",
    "    li.append((dist, i))\n",
    "\n",
    "  # counts each labels\n",
    "  cnt = {}\n",
    "\n",
    "  for i in range(k):\n",
    "    # extract minimum value\n",
    "    ele = min(li)\n",
    "    # extract minimum value's index\n",
    "    idx = li.index(ele)\n",
    "    # remove minimum value from the list\n",
    "    li.remove(ele)\n",
    "\n",
    "    # count the value\n",
    "    temp = int(train_labels[idx])\n",
    "    if temp in cnt:\n",
    "      cnt[temp] += 1\n",
    "    else:\n",
    "      cnt[temp] = 1\n",
    "\n",
    "  # sort the dictionary with the value\n",
    "  knn = max(cnt, key = lambda x: cnt[x])\n",
    "  \n",
    "  # return the last element after sorting incrementally -> returns greatest element\n",
    "  return knn"
   ]
  },
  {
   "cell_type": "code",
   "execution_count": 6,
   "metadata": {},
   "outputs": [
    {
     "name": "stdout",
     "output_type": "stream",
     "text": [
      "1\n",
      "tensor(1)\n"
     ]
    }
   ],
   "source": [
    "# Testing if it works\n",
    "\n",
    "# first, choose a sample target from the test_data (unseen)\n",
    "target = test_data[5]\n",
    "\n",
    "# perform knn with k = 5\n",
    "res = knn_broadcast(train_data, target, 5)\n",
    "\n",
    "print(res)\n",
    "print(test_labels[5])"
   ]
  },
  {
   "cell_type": "markdown",
   "metadata": {},
   "source": [
    "### Problem c"
   ]
  },
  {
   "cell_type": "code",
   "execution_count": 7,
   "metadata": {},
   "outputs": [],
   "source": [
    "# Question c\n",
    "\n",
    "# Function to calculate the accuracy of the model\n",
    "def acc(res, test_labels):\n",
    "  cnt = 0\n",
    "  length = len(test_labels)\n",
    "  for i in range(length):\n",
    "    if test_labels[i] == res[i]:\n",
    "      cnt += 1\n",
    "  return \"Test Accuracy: {}\".format(cnt/length*100)\n",
    "\n",
    "\n",
    "def knn_broadcast_all(train_data, target, test_labels, k):\n",
    "\n",
    "  # A dictionary that contains target's label and its classified result\n",
    "  res = {}\n",
    "\n",
    "  for i in range(len(target)):\n",
    "\n",
    "    # Using broadcasting method to calculate the Euclidean Distance\n",
    "    knn_data = (train_data - target[i])**2\n",
    "    \n",
    "    # sum the distance using torch.sum with column direction twice to get 1D tensor\n",
    "    dist1 = torch.sum(knn_data, dim = 1)\n",
    "    dist2 = torch.sum(dist1, dim = 1)\n",
    "\n",
    "    # counts each labels\n",
    "    cnt = {}\n",
    "\n",
    "    # changed iterable variable to avoid crashing with the outer for loop\n",
    "    for l in range(k):\n",
    "      \n",
    "      # change python list operation to pytorch operation to employ vector operation to reduce time\n",
    "      ele, idx = torch.min(dist2, dim=0)\n",
    "      # Change the value to a sentinel\n",
    "      dist2[idx] = float('inf')\n",
    "\n",
    "      # Count the labels\n",
    "      temp = int(train_labels[idx])\n",
    "      if temp in cnt:\n",
    "        cnt[temp] += 1\n",
    "      else:\n",
    "        cnt[temp] = 1\n",
    "\n",
    "    # Extract the key where its value has the greatest counts\n",
    "    knn = max(cnt, key = lambda x: cnt[x])\n",
    "    \n",
    "    # Add the index and its classified result into the dictionary\n",
    "    res[i] = knn\n",
    "  \n",
    "  # return the accuracy of the model\n",
    "  return acc(res, test_labels)"
   ]
  },
  {
   "cell_type": "code",
   "execution_count": 14,
   "metadata": {},
   "outputs": [
    {
     "name": "stdout",
     "output_type": "stream",
     "text": [
      "Test Accuracy: 96.74000000000001\n"
     ]
    }
   ],
   "source": [
    "# Testing if it works\n",
    "\n",
    "# This time, the entire test_data set is our target data\n",
    "target = test_data\n",
    "\n",
    "# perform knn with k = 5\n",
    "res = knn_broadcast_all(train_data, target, test_labels, 5)\n",
    "\n",
    "print(res)"
   ]
  },
  {
   "cell_type": "markdown",
   "metadata": {},
   "source": [
    "### Problem d"
   ]
  },
  {
   "cell_type": "code",
   "execution_count": 8,
   "metadata": {},
   "outputs": [],
   "source": [
    "# Question d\n",
    "\n",
    "def acc(res, test_labels):\n",
    "  cnt = 0\n",
    "  length = len(test_labels)\n",
    "  for i in range(length):\n",
    "    if test_labels[i] == res[i]:\n",
    "      cnt += 1\n",
    "  return \"Test Accuracy: {}\".format(cnt/length*100)\n",
    "\n",
    "# Here, the target is the entire test_data\n",
    "def knn_broadcast_all_d_ma(train_data, target, test_labels, k):\n",
    "\n",
    "  num = len(target)\n",
    "\n",
    "  train_data = torch.flatten(train_data, start_dim=1).unsqueeze(0)\n",
    "  target = torch.flatten(target, start_dim=1).unsqueeze(0)\n",
    "\n",
    "  dist = torch.cdist(train_data, target, p=2, compute_mode=\"use_mm_for_euclid_dist_if_necessary\")\n",
    "\n",
    "  # A dictionary that contains target's label and its classified result\n",
    "  res = {}\n",
    "\n",
    "  for i in range(num):\n",
    "    # counts each labels\n",
    "    cnt = {}\n",
    "\n",
    "    # changed iterable variable to avoid crashing with the outer for loop\n",
    "    for l in range(k):\n",
    "      \n",
    "      # change python list operation to pytorch operation to employ vector operation to reduce time\n",
    "      ele, idx = torch.min(dist[0,:,i], dim=0)\n",
    "      dist[0,idx,i] = float('inf')\n",
    "\n",
    "      temp = int(train_labels[idx])\n",
    "      if temp in cnt:\n",
    "        cnt[temp] += 1\n",
    "      else:\n",
    "        cnt[temp] = 1\n",
    "\n",
    "    # sort the dictionary with the value\n",
    "    knn = max(cnt, key = lambda x: cnt[x])\n",
    "    \n",
    "    # Add the index and its classified result into the dictionary\n",
    "    res[i] = knn\n",
    "  \n",
    "  return acc(res, test_labels)"
   ]
  },
  {
   "cell_type": "code",
   "execution_count": 9,
   "metadata": {},
   "outputs": [
    {
     "name": "stdout",
     "output_type": "stream",
     "text": [
      "Test Accuracy: 96.74000000000001\n"
     ]
    }
   ],
   "source": [
    "# Testing if it works\n",
    "\n",
    "# This time, the entire test_data set is our target data\n",
    "target = test_data\n",
    "\n",
    "# perform knn with k = 5\n",
    "res = knn_broadcast_all_d_ma(train_data, target, test_labels, 5)\n",
    "\n",
    "print(res)"
   ]
  },
  {
   "cell_type": "markdown",
   "metadata": {},
   "source": [
    "### Problem e\n",
    "\n",
    "The hyperparameters I can tune are distance and the k value"
   ]
  },
  {
   "cell_type": "markdown",
   "metadata": {},
   "source": [
    "### Problem f"
   ]
  },
  {
   "cell_type": "code",
   "execution_count": 10,
   "metadata": {},
   "outputs": [],
   "source": [
    "# Question d\n",
    "\n",
    "def acc(res, test_labels):\n",
    "  cnt = 0\n",
    "  length = len(test_labels)\n",
    "  for i in range(length):\n",
    "    if test_labels[i] == res[i]:\n",
    "      cnt += 1\n",
    "  return \"Test Accuracy: {}\".format(cnt/length*100)\n",
    "\n",
    "# Here, the target is the entire test_data\n",
    "def knn_broadcast_all_d_ma_p(train_data, target, test_labels, k, p_value):\n",
    "\n",
    "  num = len(target)\n",
    "\n",
    "  train_data = torch.flatten(train_data, start_dim=1).unsqueeze(0)\n",
    "  target = torch.flatten(target, start_dim=1).unsqueeze(0)\n",
    "\n",
    "  dist = torch.cdist(train_data, target, p=p_value, compute_mode=\"use_mm_for_euclid_dist_if_necessary\")\n",
    "\n",
    "  # A dictionary that contains target's label and its classified result\n",
    "  res = {}\n",
    "\n",
    "  for i in range(num):\n",
    "    # counts each labels\n",
    "    cnt = {}\n",
    "\n",
    "    # changed iterable variable to avoid crashing with the outer for loop\n",
    "    for l in range(k):\n",
    "      \n",
    "      # change python list operation to pytorch operation to employ vector operation to reduce time\n",
    "      ele, idx = torch.min(dist[0,:,i], dim=0)\n",
    "      dist[0,idx,i] = float('inf')\n",
    "\n",
    "      temp = int(train_labels[idx])\n",
    "      if temp in cnt:\n",
    "        cnt[temp] += 1\n",
    "      else:\n",
    "        cnt[temp] = 1\n",
    "\n",
    "    # sort the dictionary with the value\n",
    "    knn = max(cnt, key = lambda x: cnt[x])\n",
    "    \n",
    "    # Add the index and its classified result into the dictionary\n",
    "    res[i] = knn\n",
    "  \n",
    "  return acc(res, test_labels)"
   ]
  },
  {
   "cell_type": "code",
   "execution_count": 11,
   "metadata": {},
   "outputs": [
    {
     "name": "stdout",
     "output_type": "stream",
     "text": [
      "Test Accuracy: 96.74000000000001\n"
     ]
    }
   ],
   "source": [
    "# Testing if it works\n",
    "\n",
    "# This time, the entire test_data set is our target data\n",
    "target = test_data\n",
    "\n",
    "# perform knn with k = 5\n",
    "res1 = knn_broadcast_all_d_ma_p(train_data, target, test_labels, 8, 2)\n",
    "#res2 = knn_broadcast_all_d_ma_p(train_data, target, test_labels, 1, 2)\n",
    "#res2 = knn_broadcast_all_d_ma_p(train_data, target, test_labels, 5, 3)\n",
    "#res2 = knn_broadcast_all_d_ma_p(train_data, target, test_labels, 5, 1)\n",
    "\n",
    "print(res)"
   ]
  },
  {
   "cell_type": "code",
   "execution_count": 12,
   "metadata": {},
   "outputs": [
    {
     "name": "stdout",
     "output_type": "stream",
     "text": [
      "Test Accuracy: 96.74000000000001\n"
     ]
    }
   ],
   "source": [
    "# Testing if it works\n",
    "\n",
    "# This time, the entire test_data set is our target data\n",
    "target = test_data\n",
    "\n",
    "# perform knn with k = 5\n",
    "#res1 = knn_broadcast_all_d_ma_p(train_data, target, test_labels, 8, 2)\n",
    "res2 = knn_broadcast_all_d_ma_p(train_data, target, test_labels, 1, 2)\n",
    "#res2 = knn_broadcast_all_d_ma_p(train_data, target, test_labels, 5, 3)\n",
    "#res2 = knn_broadcast_all_d_ma_p(train_data, target, test_labels, 5, 1)\n",
    "\n",
    "print(res)"
   ]
  },
  {
   "cell_type": "code",
   "execution_count": 13,
   "metadata": {},
   "outputs": [],
   "source": [
    "# Testing if it works\n",
    "\n",
    "# This time, the entire test_data set is our target data\n",
    "target = test_data\n",
    "\n",
    "# perform knn with k = 5\n",
    "#res1 = knn_broadcast_all_d_ma_p(train_data, target, test_labels, 8, 2)\n",
    "#res2 = knn_broadcast_all_d_ma_p(train_data, target, test_labels, 1, 2)\n",
    "res2 = knn_broadcast_all_d_ma_p(train_data, target, test_labels, 5, 3)\n",
    "#res2 = knn_broadcast_all_d_ma_p(train_data, target, test_labels, 5, 1)\n",
    "\n",
    "print(res)"
   ]
  }
 ],
 "metadata": {
  "kernelspec": {
   "display_name": "base",
   "language": "python",
   "name": "python3"
  },
  "language_info": {
   "codemirror_mode": {
    "name": "ipython",
    "version": 3
   },
   "file_extension": ".py",
   "mimetype": "text/x-python",
   "name": "python",
   "nbconvert_exporter": "python",
   "pygments_lexer": "ipython3",
   "version": "3.11.8"
  }
 },
 "nbformat": 4,
 "nbformat_minor": 2
}
